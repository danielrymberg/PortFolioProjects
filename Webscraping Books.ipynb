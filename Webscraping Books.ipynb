{
 "cells": [
  {
   "cell_type": "code",
   "execution_count": 2,
   "id": "5bc431f5",
   "metadata": {},
   "outputs": [],
   "source": [
    "# import libraries \n",
    "\n",
    "import requests\n",
    "import pandas as pd\n",
    "from bs4 import BeautifulSoup"
   ]
  },
  {
   "cell_type": "code",
   "execution_count": 16,
   "id": "8606771e",
   "metadata": {},
   "outputs": [],
   "source": [
    "books = []\n",
    "\n",
    "for i in range(1,5):\n",
    "  url = f\"https://books.toscrape.com/catalogue/page-{i}.html\"\n",
    "  response = requests.get(url)\n",
    "  response = response.content\n",
    "  soup = BeautifulSoup(response, 'html.parser')\n",
    "  ol = soup.find('ol')\n",
    "  articles = ol.find_all('article', class_='product_pod')\n",
    "  for article in articles:\n",
    "    image = article.find('img')\n",
    "    title = image.attrs['alt']\n",
    "    starTag = article.find('p')\n",
    "    star = starTag['class'][1]\n",
    "    price = article.find('p', class_='price_color').text\n",
    "    price = float(price[1:])\n",
    "    books.append([title, star, price])\n",
    "    \n",
    "\n",
    "df = pd.DataFrame(books, columns=['Title', 'Star Rating', 'Price'])\n",
    "df.to_csv('books.csv')"
   ]
  },
  {
   "cell_type": "code",
   "execution_count": null,
   "id": "0cf9bdf6",
   "metadata": {},
   "outputs": [],
   "source": []
  }
 ],
 "metadata": {
  "kernelspec": {
   "display_name": "Python 3 (ipykernel)",
   "language": "python",
   "name": "python3"
  },
  "language_info": {
   "codemirror_mode": {
    "name": "ipython",
    "version": 3
   },
   "file_extension": ".py",
   "mimetype": "text/x-python",
   "name": "python",
   "nbconvert_exporter": "python",
   "pygments_lexer": "ipython3",
   "version": "3.11.3"
  }
 },
 "nbformat": 4,
 "nbformat_minor": 5
}
